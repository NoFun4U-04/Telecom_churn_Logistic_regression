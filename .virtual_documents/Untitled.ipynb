import matplotlib.pyplot as plt
import numpy as np

# Tạo dữ liệu có giá trị ngoại lai
data = [10, 12, 15, 17, 18, 19, 20, 22, 24, 30, 100]  # 100 là ngoại lai
data2 = [5, 7, 8, 9, 10, 11, 12, 15, 18, 50]  # 50 là ngoại lai

# Vẽ biểu đồ Boxplot
fig, ax = plt.subplots()
box = ax.boxplot([data, data2], patch_artist=True, flierprops=dict(marker='o', color='red', markersize=8))

# Tô màu cho hộp
colors = ['lightblue', 'lightgreen']
for patch, color in zip(box['boxes'], colors):
    patch.set_facecolor(color)

# Thêm nhãn và tiêu đề
ax.set_xticklabels(['Dữ liệu 1', 'Dữ liệu 2'])
ax.set_title('Biểu đồ Boxplot với giá trị ngoại lai')
ax.set_ylabel('Giá trị')

# Hiển thị biểu đồ
plt.show()




